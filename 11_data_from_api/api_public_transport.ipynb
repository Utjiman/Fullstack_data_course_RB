{
 "cells": [
  {
   "cell_type": "markdown",
   "metadata": {},
   "source": [
    "<div style=\"max-width:66ch;\">\n",
    "\n",
    "# Lecture notes - EDA on public transport API\n",
    "\n",
    "This is the lecture note for working with **APIs**. We will dive into doing get requests from trafiklab API to get public transport data.\n",
    "\n",
    "In this lecture we'll cover\n",
    "\n",
    "- trafiklab API\n",
    "- working with .env\n",
    "- working with json data\n",
    "\n",
    "<p class = \"alert alert-info\" role=\"alert\"><b>Note</b> that this lecture note gives a brief introduction to API and how to work with it. I encourage you to read further about APIs.\n",
    "\n",
    "</div>\n"
   ]
  },
  {
   "cell_type": "markdown",
   "metadata": {},
   "source": [
    "## Routeplanner\n",
    "\n",
    "- [ResRobot Route planner API](https://www.trafiklab.se/api/trafiklab-apis/resrobot-v21/route-planner/)\n",
    "\n",
    "- note that you need a .env file where you will store your API key for ResRobot\n",
    "- also make sure that your .gitignore includes .env so that it is not pushed to your github repo"
   ]
  },
  {
   "cell_type": "code",
   "execution_count": 51,
   "metadata": {},
   "outputs": [
    {
     "data": {
      "text/plain": [
       "dict_keys(['Trip', 'ResultStatus', 'TechnicalMessages', 'serverVersion', 'dialectVersion', 'planRtTs', 'requestId', 'scrB', 'scrF'])"
      ]
     },
     "execution_count": 51,
     "metadata": {},
     "output_type": "execute_result"
    }
   ],
   "source": [
    "from dotenv import load_dotenv\n",
    "import os\n",
    "import requests\n",
    "\n",
    "load_dotenv()\n",
    "\n",
    "\n",
    "def get_trips(origin_id=740000001, destination_id=740098001):\n",
    "    \"\"\"origing_id and destination_id can be found from Stop lookup API\"\"\"\n",
    "    API_KEY = os.getenv(\"API_KEY\")\n",
    "    url = f\"https://api.resrobot.se/v2.1/trip?format=json&originId={origin_id}&destId={destination_id}&passlist=true&showPassingPoints=true&accessId={API_KEY}\"\n",
    "\n",
    "    try:\n",
    "        response = requests.get(url)\n",
    "        response.raise_for_status()\n",
    "\n",
    "        return response.json()\n",
    "    except requests.exceptions.RequestException as err:\n",
    "        print(f\"Network or HTTP error: {err}\")\n",
    "\n",
    "\n",
    "result = get_trips()\n",
    "result.keys()"
   ]
  },
  {
   "cell_type": "code",
   "execution_count": 9,
   "metadata": {},
   "outputs": [
    {
     "data": {
      "text/plain": [
       "5"
      ]
     },
     "execution_count": 9,
     "metadata": {},
     "output_type": "execute_result"
    }
   ],
   "source": [
    "# check how many trips there are\n",
    "len(result[\"Trip\"])"
   ]
  },
  {
   "cell_type": "code",
   "execution_count": 16,
   "metadata": {},
   "outputs": [
    {
     "data": {
      "text/plain": [
       "dict_keys(['Origin', 'Destination', 'ServiceDays', 'LegList', 'calculation', 'TripStatus', 'idx', 'tripId', 'ctxRecon', 'duration', 'rtDuration', 'checksum'])"
      ]
     },
     "execution_count": 16,
     "metadata": {},
     "output_type": "execute_result"
    }
   ],
   "source": [
    "# checks first trip keys\n",
    "example_trip = result[\"Trip\"][0]\n",
    "example_trip.keys()"
   ]
  },
  {
   "cell_type": "code",
   "execution_count": 18,
   "metadata": {},
   "outputs": [
    {
     "data": {
      "text/plain": [
       "{'name': 'Stockholm Centralstation',\n",
       " 'type': 'ST',\n",
       " 'id': 'A=1@O=Stockholm Centralstation@X=18058151@Y=59330136@U=1@L=740000001@',\n",
       " 'extId': '740000001',\n",
       " 'lon': 18.058151,\n",
       " 'lat': 59.330136,\n",
       " 'routeIdx': 0,\n",
       " 'prognosisType': 'PROGNOSED',\n",
       " 'time': '14:07:00',\n",
       " 'date': '2025-01-06',\n",
       " 'minimumChangeDuration': 'PT20M'}"
      ]
     },
     "execution_count": 18,
     "metadata": {},
     "output_type": "execute_result"
    }
   ],
   "source": [
    "example_trip[\"Origin\"]"
   ]
  },
  {
   "cell_type": "code",
   "execution_count": 20,
   "metadata": {},
   "outputs": [
    {
     "data": {
      "text/plain": [
       "{'name': 'Göteborg Centralstation',\n",
       " 'type': 'ST',\n",
       " 'id': 'A=1@O=Göteborg Centralstation@X=11973479@Y=57708895@U=1@L=740000002@',\n",
       " 'extId': '740000002',\n",
       " 'lon': 11.973479,\n",
       " 'lat': 57.708895,\n",
       " 'routeIdx': 4,\n",
       " 'prognosisType': 'PROGNOSED',\n",
       " 'time': '17:41:00',\n",
       " 'date': '2025-01-06',\n",
       " 'minimumChangeDuration': 'PT15M'}"
      ]
     },
     "execution_count": 20,
     "metadata": {},
     "output_type": "execute_result"
    }
   ],
   "source": [
    "example_trip[\"Destination\"]"
   ]
  },
  {
   "cell_type": "code",
   "execution_count": 22,
   "metadata": {},
   "outputs": [
    {
     "data": {
      "text/plain": [
       "{'hintCode': 0}"
      ]
     },
     "execution_count": 22,
     "metadata": {},
     "output_type": "execute_result"
    }
   ],
   "source": [
    "example_trip[\"TripStatus\"]"
   ]
  },
  {
   "cell_type": "code",
   "execution_count": 24,
   "metadata": {},
   "outputs": [
    {
     "data": {
      "text/plain": [
       "[{'planningPeriodBegin': '2024-12-11',\n",
       "  'planningPeriodEnd': '2025-06-15',\n",
       "  'sDaysR': 'inte varje dag',\n",
       "  'sDaysI': '6. jan t o m 9. jun 2025; 22. mar t o m 19. apr 2025 mån - fre, sön; utom 18. t o m 21. apr 2025, 1. t o m 4. maj 2025, 10., 17., 18., 24. maj, 29. maj t o m 1. jun 2025, 6., 8. jun',\n",
       "  'sDaysB': '0000007FFFFFFFFFFFFFFFFFFBF7EFDF0FF87DF9F787A800'}]"
      ]
     },
     "execution_count": 24,
     "metadata": {},
     "output_type": "execute_result"
    }
   ],
   "source": [
    "example_trip[\"ServiceDays\"]"
   ]
  },
  {
   "cell_type": "code",
   "execution_count": 29,
   "metadata": {},
   "outputs": [
    {
     "data": {
      "text/plain": [
       "dict_keys(['Leg'])"
      ]
     },
     "execution_count": 29,
     "metadata": {},
     "output_type": "execute_result"
    }
   ],
   "source": [
    "example_trip[\"LegList\"].keys()"
   ]
  },
  {
   "cell_type": "code",
   "execution_count": 31,
   "metadata": {},
   "outputs": [
    {
     "data": {
      "text/plain": [
       "1"
      ]
     },
     "execution_count": 31,
     "metadata": {},
     "output_type": "execute_result"
    }
   ],
   "source": [
    "len(example_trip[\"LegList\"][\"Leg\"])"
   ]
  },
  {
   "cell_type": "code",
   "execution_count": 33,
   "metadata": {},
   "outputs": [
    {
     "data": {
      "text/plain": [
       "dict_keys(['Origin', 'Destination', 'Notes', 'JourneyDetailRef', 'JourneyStatus', 'Product', 'Stops', 'JourneyDetail', 'id', 'idx', 'name', 'number', 'category', 'type', 'reachable', 'waitingState', 'direction', 'directionFlag', 'duration'])"
      ]
     },
     "execution_count": 33,
     "metadata": {},
     "output_type": "execute_result"
    }
   ],
   "source": [
    "example_trip[\"LegList\"][\"Leg\"][0].keys()"
   ]
  },
  {
   "cell_type": "code",
   "execution_count": 48,
   "metadata": {},
   "outputs": [
    {
     "data": {
      "text/plain": [
       "[{'name': 'Stockholm Centralstation',\n",
       "  'id': 'A=1@O=Stockholm Centralstation@X=18058151@Y=59330136@U=1@L=740000001@',\n",
       "  'extId': '740000001',\n",
       "  'routeIdx': 0,\n",
       "  'lon': 18.058151,\n",
       "  'lat': 59.330136,\n",
       "  'depPrognosisType': 'PROGNOSED',\n",
       "  'depTime': '14:07:00',\n",
       "  'depDate': '2025-01-06',\n",
       "  'depDir': 'Göteborg Centralstation',\n",
       "  'minimumChangeDuration': 'PT20M'},\n",
       " {'name': 'Katrineholm Centralstation',\n",
       "  'id': 'A=1@O=Katrineholm Centralstation@X=16208324@Y=58996591@U=1@L=740000166@',\n",
       "  'extId': '740000166',\n",
       "  'routeIdx': 1,\n",
       "  'lon': 16.208324,\n",
       "  'lat': 58.996591,\n",
       "  'depTime': '15:00:00',\n",
       "  'depDate': '2025-01-06',\n",
       "  'arrTime': '14:59:00',\n",
       "  'arrDate': '2025-01-06',\n",
       "  'minimumChangeDuration': 'PT10M'},\n",
       " {'name': 'Skövde Centralstation',\n",
       "  'id': 'A=1@O=Skövde Centralstation@X=13853195@Y=58390898@U=1@L=740000008@',\n",
       "  'extId': '740000008',\n",
       "  'routeIdx': 2,\n",
       "  'lon': 13.853195,\n",
       "  'lat': 58.390898,\n",
       "  'depTime': '16:17:00',\n",
       "  'depDate': '2025-01-06',\n",
       "  'arrTime': '16:17:00',\n",
       "  'arrDate': '2025-01-06',\n",
       "  'minimumChangeDuration': 'PT10M'},\n",
       " {'name': 'Herrljunga station',\n",
       "  'id': 'A=1@O=Herrljunga station@X=13021279@Y=58079188@U=1@L=740000040@',\n",
       "  'extId': '740000040',\n",
       "  'routeIdx': 3,\n",
       "  'lon': 13.021279,\n",
       "  'lat': 58.079188,\n",
       "  'depTime': '16:45:00',\n",
       "  'depDate': '2025-01-06',\n",
       "  'arrTime': '16:45:00',\n",
       "  'arrDate': '2025-01-06',\n",
       "  'minimumChangeDuration': 'PT8M'},\n",
       " {'name': 'Göteborg Centralstation',\n",
       "  'id': 'A=1@O=Göteborg Centralstation@X=11973479@Y=57708895@U=1@L=740000002@',\n",
       "  'extId': '740000002',\n",
       "  'routeIdx': 4,\n",
       "  'lon': 11.973479,\n",
       "  'lat': 57.708895,\n",
       "  'arrPrognosisType': 'PROGNOSED',\n",
       "  'arrTime': '17:41:00',\n",
       "  'arrDate': '2025-01-06',\n",
       "  'minimumChangeDuration': 'PT15M'}]"
      ]
     },
     "execution_count": 48,
     "metadata": {},
     "output_type": "execute_result"
    }
   ],
   "source": [
    "example_stops = example_trip[\"LegList\"][\"Leg\"][0][\"Stops\"][\"Stop\"]\n",
    "example_stops"
   ]
  },
  {
   "cell_type": "code",
   "execution_count": 50,
   "metadata": {},
   "outputs": [
    {
     "data": {
      "text/plain": [
       "[{'Stockholm Centralstation': None},\n",
       " {'Katrineholm Centralstation': '14:59:00'},\n",
       " {'Skövde Centralstation': '16:17:00'},\n",
       " {'Herrljunga station': '16:45:00'},\n",
       " {'Göteborg Centralstation': '17:41:00'}]"
      ]
     },
     "execution_count": 50,
     "metadata": {},
     "output_type": "execute_result"
    }
   ],
   "source": [
    "[{stop.get(\"name\"): stop.get(\"arrTime\")} for stop in example_stops]"
   ]
  },
  {
   "cell_type": "markdown",
   "metadata": {},
   "source": [
    "## Stop lookup API to find id\n",
    "\n",
    "- [ResRobot Stop lookup API](https://www.trafiklab.se/api/trafiklab-apis/resrobot-v21/stop-lookup/)\n",
    "\n",
    "We will work our way to creating a function to find the id based on location\n",
    "\n",
    "\n"
   ]
  },
  {
   "cell_type": "code",
   "execution_count": 56,
   "metadata": {},
   "outputs": [
    {
     "data": {
      "text/plain": [
       "dict_keys(['stopLocationOrCoordLocation', 'TechnicalMessages', 'serverVersion', 'dialectVersion', 'requestId'])"
      ]
     },
     "execution_count": 56,
     "metadata": {},
     "output_type": "execute_result"
    }
   ],
   "source": [
    "location = \"göteborg\"\n",
    "url = f\"https://api.resrobot.se/v2.1/location.name?input={location}&format=json&accessId={API_KEY}\"\n",
    "response = requests.get(url)\n",
    "result = response.json()\n",
    "result.keys()"
   ]
  },
  {
   "cell_type": "code",
   "execution_count": 69,
   "metadata": {},
   "outputs": [
    {
     "data": {
      "text/plain": [
       "10"
      ]
     },
     "execution_count": 69,
     "metadata": {},
     "output_type": "execute_result"
    }
   ],
   "source": [
    "stop_locations = result[\"stopLocationOrCoordLocation\"]\n",
    "len(stop_locations)"
   ]
  },
  {
   "cell_type": "code",
   "execution_count": 70,
   "metadata": {},
   "outputs": [
    {
     "data": {
      "text/plain": [
       "{'StopLocation': {'productAtStop': [{'icon': {'res': 'prod_gen'}, 'cls': '2'},\n",
       "   {'icon': {'res': 'prod_gen'}, 'cls': '4'},\n",
       "   {'icon': {'res': 'prod_gen'}, 'cls': '8'},\n",
       "   {'icon': {'res': 'prod_gen'}, 'cls': '16'},\n",
       "   {'icon': {'res': 'prod_gen'}, 'cls': '64'},\n",
       "   {'icon': {'res': 'prod_gen'}, 'cls': '128'},\n",
       "   {'icon': {'res': 'prod_gen'}, 'cls': '256'}],\n",
       "  'timezoneOffset': 60,\n",
       "  'id': 'A=1@O=GÖTEBORG@X=11973479@Y=57708895@U=1@L=740098001@B=1@p=1736138202@',\n",
       "  'extId': '740098001',\n",
       "  'name': 'GÖTEBORG',\n",
       "  'lon': 11.973479,\n",
       "  'lat': 57.708895,\n",
       "  'weight': 15424,\n",
       "  'products': 222,\n",
       "  'meta': True,\n",
       "  'minimumChangeDuration': 'PT26M'}}"
      ]
     },
     "execution_count": 70,
     "metadata": {},
     "output_type": "execute_result"
    }
   ],
   "source": [
    "stop_locations[0]"
   ]
  },
  {
   "cell_type": "code",
   "execution_count": 71,
   "metadata": {},
   "outputs": [
    {
     "data": {
      "text/plain": [
       "dict_keys(['productAtStop', 'timezoneOffset', 'id', 'extId', 'name', 'lon', 'lat', 'weight', 'products', 'meta', 'minimumChangeDuration'])"
      ]
     },
     "execution_count": 71,
     "metadata": {},
     "output_type": "execute_result"
    }
   ],
   "source": [
    "stop_locations[0][\"StopLocation\"].keys()"
   ]
  },
  {
   "cell_type": "code",
   "execution_count": 72,
   "metadata": {},
   "outputs": [
    {
     "data": {
      "text/plain": [
       "'GÖTEBORG'"
      ]
     },
     "execution_count": 72,
     "metadata": {},
     "output_type": "execute_result"
    }
   ],
   "source": [
    "stop_locations[0][\"StopLocation\"][\"name\"]"
   ]
  },
  {
   "cell_type": "code",
   "execution_count": 84,
   "metadata": {},
   "outputs": [
    {
     "name": "stdout",
     "output_type": "stream",
     "text": [
      "Stop                                               extId\n",
      "GÖTEBORG                                           740098001\n",
      "Göteborg Centralstation                            740000002\n",
      "Göteborg Sävenäs lokstation                        740016365\n",
      "GÖTEBORG GAMLESTADEN                               740098526\n",
      "Göteborg Korsvägen                                 740015578\n",
      "Göteborg Kungsportsplatsen                         740016358\n",
      "Göteborg Stenpiren                                 740072430\n",
      "Göteborg Eketrägatan                               740025624\n",
      "Göteborg Vårväderstorget                           740025707\n",
      "Göteborg Axel Dahlströms torg                      740025608\n"
     ]
    }
   ],
   "source": [
    "# :<50  -> left align in a 50-character wide field\n",
    "print(f\"{'Stop':<50} {'extId'}\")\n",
    "for stop_location in stop_locations:\n",
    "    stop = stop_location[\"StopLocation\"]\n",
    "    print(f\"{stop.get('name'):<50} {stop.get('extId')}\")"
   ]
  },
  {
   "cell_type": "code",
   "execution_count": 85,
   "metadata": {},
   "outputs": [
    {
     "name": "stdout",
     "output_type": "stream",
     "text": [
      "Name                                               extId\n",
      "Malm (Gullspång kn)                                740062061\n",
      "Malmö Centralstation                               740000003\n",
      "Malmö Triangeln station                            740001587\n",
      "Malmö Hyllie station                               740001586\n",
      "Malmö Svågertorp station                           740001546\n",
      "Malmö Persborg station                             740001486\n",
      "MALMÖ                                              740098548\n",
      "Malmö Rosengård station                            740001621\n",
      "Malmö Östervärn station                            740001483\n",
      "Malmö Fosieby station                              740001553\n"
     ]
    }
   ],
   "source": [
    "def access_id_from_location(location):\n",
    "    url = f\"https://api.resrobot.se/v2.1/location.name?input={location}&format=json&accessId={API_KEY}\"\n",
    "\n",
    "    try:\n",
    "        response = requests.get(url)\n",
    "        result = response.json()\n",
    "\n",
    "        print(f\"{'Name':<50} extId\")\n",
    "\n",
    "        for stop in result.get(\"stopLocationOrCoordLocation\"):\n",
    "            stop_data = next(iter(stop.values()))\n",
    "\n",
    "            # returns None if extId doesn't exist\n",
    "            if stop_data.get(\"extId\"):\n",
    "                print(f\"{stop_data['name']:<50} {stop_data['extId']}\")\n",
    "\n",
    "    except requests.exceptions.RequestException as err:\n",
    "        print(f\"Network or HTTP error: {err}\")\n",
    "\n",
    "access_id_from_location(\"malm\")"
   ]
  },
  {
   "cell_type": "markdown",
   "metadata": {},
   "source": [
    "## Time tables\n",
    "- [ResRobot Timetables](https://www.trafiklab.se/api/trafiklab-apis/resrobot-v21/timetables/)\n",
    "\n",
    "Here I present a few EDAs, I'll leave it to you to make it into a function and find out relevant information"
   ]
  },
  {
   "cell_type": "code",
   "execution_count": 88,
   "metadata": {},
   "outputs": [
    {
     "data": {
      "text/plain": [
       "dict_keys(['Departure', 'TechnicalMessages', 'serverVersion', 'dialectVersion', 'planRtTs', 'requestId'])"
      ]
     },
     "execution_count": 88,
     "metadata": {},
     "output_type": "execute_result"
    }
   ],
   "source": [
    "# korsvägen\n",
    "stop_id=740015578\n",
    "url = f\"https://api.resrobot.se/v2.1/departureBoard?id={stop_id}&format=json&accessId={API_KEY}\"\n",
    "\n",
    "response = requests.get(url)\n",
    "results = response.json()\n",
    "results.keys()"
   ]
  },
  {
   "cell_type": "code",
   "execution_count": 91,
   "metadata": {},
   "outputs": [
    {
     "data": {
      "text/plain": [
       "156"
      ]
     },
     "execution_count": 91,
     "metadata": {},
     "output_type": "execute_result"
    }
   ],
   "source": [
    "departures = results[\"Departure\"]\n",
    "len(departures)"
   ]
  },
  {
   "cell_type": "code",
   "execution_count": 94,
   "metadata": {},
   "outputs": [
    {
     "data": {
      "text/plain": [
       "dict_keys(['JourneyDetailRef', 'JourneyStatus', 'ProductAtStop', 'Product', 'Notes', 'name', 'type', 'stop', 'stopid', 'stopExtId', 'lon', 'lat', 'time', 'date', 'reachable', 'direction', 'directionFlag'])"
      ]
     },
     "execution_count": 94,
     "metadata": {},
     "output_type": "execute_result"
    }
   ],
   "source": [
    "example_departure = departures[0]\n",
    "example_departure.keys()"
   ]
  },
  {
   "cell_type": "code",
   "execution_count": 99,
   "metadata": {},
   "outputs": [
    {
     "data": {
      "text/plain": [
       "('Länstrafik - Buss X4', 'Höga hallar (Härryda kn)', 'Göteborg Korsvägen')"
      ]
     },
     "execution_count": 99,
     "metadata": {},
     "output_type": "execute_result"
    }
   ],
   "source": [
    "example_departure.get(\"name\"), example_departure.get(\"direction\"), example_departure.get(\"stop\")"
   ]
  },
  {
   "cell_type": "code",
   "execution_count": 97,
   "metadata": {},
   "outputs": [
    {
     "data": {
      "text/plain": [
       "{'icon': {'res': 'prod_gen'},\n",
       " 'operatorInfo': {'name': 'Västtrafik',\n",
       "  'nameS': '279',\n",
       "  'nameN': '279',\n",
       "  'nameL': 'Västtrafik',\n",
       "  'id': '279'},\n",
       " 'name': 'Länstrafik - Buss X4',\n",
       " 'internalName': 'Länstrafik - Buss X4',\n",
       " 'displayNumber': 'X4',\n",
       " 'num': 'X4',\n",
       " 'line': 'X4',\n",
       " 'lineId': '1279520500001',\n",
       " 'catOut': 'BLT',\n",
       " 'catIn': 'BLT',\n",
       " 'catCode': '7',\n",
       " 'cls': '128',\n",
       " 'catOutS': 'BLT',\n",
       " 'catOutL': 'Länstrafik - Buss',\n",
       " 'operatorCode': '279',\n",
       " 'operator': 'Västtrafik',\n",
       " 'admin': '279___',\n",
       " 'matchId': 'X4;5205;689'}"
      ]
     },
     "execution_count": 97,
     "metadata": {},
     "output_type": "execute_result"
    }
   ],
   "source": [
    "example_departure.get(\"ProductAtStop\")"
   ]
  },
  {
   "cell_type": "markdown",
   "metadata": {},
   "source": [
    "<div style=\"background-color: #FFF; color: #212121; border-radius: 1px; width:22ch; box-shadow: rgba(0, 0, 0, 0.16) 0px 1px 4px; display: flex; justify-content: center; align-items: center;\">\n",
    "<div style=\"padding: 1.5em 0; width: 70%;\">\n",
    "    <h2 style=\"font-size: 1.2rem;\">Kokchun Giang</h2>\n",
    "    <a href=\"https://www.linkedin.com/in/kokchungiang/\" target=\"_blank\" style=\"display: flex; align-items: center; gap: .4em; color:#0A66C2;\">\n",
    "        <img src=\"https://content.linkedin.com/content/dam/me/business/en-us/amp/brand-site/v2/bg/LI-Bug.svg.original.svg\" width=\"20\"> \n",
    "        LinkedIn profile\n",
    "    </a>\n",
    "    <a href=\"https://github.com/kokchun/Portfolio-Kokchun-Giang\" target=\"_blank\" style=\"display: flex; align-items: center; gap: .4em; margin: 1em 0; color:#0A66C2;\">\n",
    "        <img src=\"https://github.githubassets.com/images/modules/logos_page/GitHub-Mark.png\" width=\"20\"> \n",
    "        Github portfolio\n",
    "    </a>\n",
    "    <span>AIgineer AB</span>\n",
    "<div>\n",
    "</div>\n"
   ]
  }
 ],
 "metadata": {
  "kernelspec": {
   "display_name": ".venv",
   "language": "python",
   "name": "python3"
  },
  "language_info": {
   "codemirror_mode": {
    "name": "ipython",
    "version": 3
   },
   "file_extension": ".py",
   "mimetype": "text/x-python",
   "name": "python",
   "nbconvert_exporter": "python",
   "pygments_lexer": "ipython3",
   "version": "3.11.8"
  }
 },
 "nbformat": 4,
 "nbformat_minor": 2
}
